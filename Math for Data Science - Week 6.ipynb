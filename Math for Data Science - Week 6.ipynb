{
 "cells": [
  {
   "cell_type": "markdown",
   "id": "8af70156-31ca-4ccc-881e-776764d536f9",
   "metadata": {},
   "source": [
    "## 1. Data Normalization"
   ]
  },
  {
   "cell_type": "code",
   "execution_count": 2,
   "id": "3bdc34ef-7e65-4295-a79e-dd94313e4300",
   "metadata": {},
   "outputs": [],
   "source": [
    "import numpy as np\n",
    "\n",
    "def normalize(array):\n",
    "    min_val = np.min(array)\n",
    "    max_val = np.max(array)\n",
    "    return (array - min_val) / (max_val - min_val)"
   ]
  },
  {
   "cell_type": "markdown",
   "id": "8fbebc63-d14b-4fbf-b850-1781a8e9449a",
   "metadata": {},
   "source": [
    "## 2. Data Standardization"
   ]
  },
  {
   "cell_type": "code",
   "execution_count": 4,
   "id": "2071035b-6db0-402e-9e45-c5b43bce0c44",
   "metadata": {},
   "outputs": [],
   "source": [
    "def standardize(array):\n",
    "    mean = np.mean(array)\n",
    "    std_dev = np.std(array)\n",
    "    return (array - mean) / std_dev"
   ]
  },
  {
   "cell_type": "markdown",
   "id": "18002665-8413-43cc-bf87-a73986446351",
   "metadata": {},
   "source": [
    "## California House Data"
   ]
  },
  {
   "cell_type": "code",
   "execution_count": 6,
   "id": "bd1a90d9-cbba-4d4c-b044-5c6b73e1b074",
   "metadata": {},
   "outputs": [
    {
     "name": "stdout",
     "output_type": "stream",
     "text": [
      "   housing_median_age  total_bedrooms  households  median_income  \\\n",
      "0                  41           129.0         126         8.3252   \n",
      "1                  21          1106.0        1138         8.3014   \n",
      "2                  52           190.0         177         7.2574   \n",
      "3                  52           235.0         219         5.6431   \n",
      "4                  52           280.0         259         3.8462   \n",
      "\n",
      "   median_house_value  \n",
      "0            452600.0  \n",
      "1            358500.0  \n",
      "2            352100.0  \n",
      "3            341300.0  \n",
      "4            342200.0  \n"
     ]
    }
   ],
   "source": [
    "import pandas as pd\n",
    "\n",
    "# Import Data\n",
    "data = pd.read_csv(r\"C:\\Users\\Weekseey\\Documents\\Bellevue Work\\Math for Data Science\\week6data\\calif_housing_data.csv\")\n",
    "print(data.head())"
   ]
  },
  {
   "cell_type": "markdown",
   "id": "462e8db5-ddc4-4109-96ae-ee9adde523de",
   "metadata": {},
   "source": [
    "### (a) How many rows does this data set have?"
   ]
  },
  {
   "cell_type": "code",
   "execution_count": 8,
   "id": "dcbde74d-103d-41bf-bf1b-d0bee824d1f6",
   "metadata": {},
   "outputs": [
    {
     "name": "stdout",
     "output_type": "stream",
     "text": [
      "The dataset has 20640 rows.\n"
     ]
    }
   ],
   "source": [
    "num_rows = len(data)\n",
    "print(f\"The dataset has {num_rows} rows.\")"
   ]
  },
  {
   "cell_type": "markdown",
   "id": "1545508f-cb71-442f-bd60-d2d02bac898a",
   "metadata": {},
   "source": [
    "### (b) What is the target vector for your model?"
   ]
  },
  {
   "cell_type": "code",
   "execution_count": 10,
   "id": "f0bf867f-8d18-4056-8ac8-0ad69dec4c4c",
   "metadata": {},
   "outputs": [
    {
     "name": "stdout",
     "output_type": "stream",
     "text": [
      "The target vector is the 'median_house_value' column.\n"
     ]
    }
   ],
   "source": [
    "target_vector = data[\"median_house_value\"]\n",
    "print(\"The target vector is the 'median_house_value' column.\")"
   ]
  },
  {
   "cell_type": "markdown",
   "id": "a43fd680-ae6a-4b8d-bc6d-493b27999b06",
   "metadata": {},
   "source": [
    "### (c) Create a new feature by dividing total bedrooms by the number of households."
   ]
  },
  {
   "cell_type": "code",
   "execution_count": 12,
   "id": "6a8a0191-80ae-4dac-8627-5ebf26ea679c",
   "metadata": {},
   "outputs": [
    {
     "name": "stdout",
     "output_type": "stream",
     "text": [
      "The new feature 'bedrooms_per_household' represents the average number of bedrooms per household on each block.\n"
     ]
    }
   ],
   "source": [
    "data[\"bedrooms_per_household\"] = data[\"total_bedrooms\"] / data[\"households\"]\n",
    "print(f\"The new feature 'bedrooms_per_household' represents the average number of bedrooms per household on each block.\")"
   ]
  },
  {
   "cell_type": "markdown",
   "id": "8a8e5616-e899-4d03-9fab-0210f6659fdd",
   "metadata": {},
   "source": [
    "### (d) Now, create a new dataframe that has three features: median age, median income, and the new feature from part (c)."
   ]
  },
  {
   "cell_type": "code",
   "execution_count": 14,
   "id": "820641eb-ec74-4194-af66-59c1b81d1820",
   "metadata": {},
   "outputs": [
    {
     "name": "stdout",
     "output_type": "stream",
     "text": [
      "New data frame created with columns: ['housing_median_age', 'median_income', 'bedrooms_per_household'].\n"
     ]
    }
   ],
   "source": [
    "new_data = data[[\"housing_median_age\", \"median_income\", \"bedrooms_per_household\"]]\n",
    "print(f\"New data frame created with columns: {list(new_data.columns)}.\")"
   ]
  },
  {
   "cell_type": "markdown",
   "id": "1615a220-87b9-4f38-9b95-ba866b70cf7d",
   "metadata": {},
   "source": [
    "### (e) Apply standardization to the features in the new data frame."
   ]
  },
  {
   "cell_type": "code",
   "execution_count": 16,
   "id": "243f1b7d-8df5-400f-92ee-71db50943b67",
   "metadata": {},
   "outputs": [
    {
     "name": "stdout",
     "output_type": "stream",
     "text": [
      "Standardized Data:\n",
      "   housing_median_age  median_income  bedrooms_per_household\n",
      "0            0.982143       2.344766               -0.153863\n",
      "1           -0.607019       2.332238               -0.262936\n",
      "2            1.856182       1.782699               -0.049604\n",
      "3            1.856182       0.932968               -0.050417\n",
      "4            1.856182      -0.012881               -0.033568\n"
     ]
    }
   ],
   "source": [
    "standardized_data = new_data.apply(standardize, axis = 0)\n",
    "print(\"Standardized Data:\")\n",
    "print(standardized_data.head())"
   ]
  }
 ],
 "metadata": {
  "kernelspec": {
   "display_name": "Python 3 (ipykernel)",
   "language": "python",
   "name": "python3"
  },
  "language_info": {
   "codemirror_mode": {
    "name": "ipython",
    "version": 3
   },
   "file_extension": ".py",
   "mimetype": "text/x-python",
   "name": "python",
   "nbconvert_exporter": "python",
   "pygments_lexer": "ipython3",
   "version": "3.12.4"
  }
 },
 "nbformat": 4,
 "nbformat_minor": 5
}
