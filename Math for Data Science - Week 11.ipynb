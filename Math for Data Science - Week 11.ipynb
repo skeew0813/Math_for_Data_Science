{
 "cells": [
  {
   "cell_type": "markdown",
   "id": "af9d9b6c-3a51-4185-880a-0bcb7ecde809",
   "metadata": {},
   "source": [
    "# 1. Using the Binomial Distribution"
   ]
  },
  {
   "cell_type": "markdown",
   "id": "235c0e1c-8b9f-4c2e-8916-673f44b9f07d",
   "metadata": {},
   "source": [
    "## (a)"
   ]
  },
  {
   "cell_type": "code",
   "execution_count": 3,
   "id": "c189116d-1382-462f-ab92-e89c501565f7",
   "metadata": {},
   "outputs": [
    {
     "name": "stdout",
     "output_type": "stream",
     "text": [
      "Ensemble accuracy: 0.8513\n"
     ]
    }
   ],
   "source": [
    "from scipy.stats import binom\n",
    "import numpy as np\n",
    "import matplotlib.pyplot as plt\n",
    "import math\n",
    "\n",
    "\n",
    "def ensemble_accuracy(n_models, model_accuracy):\n",
    "    p = model_accuracy\n",
    "    majority = (n_models // 2) + 1  # Majority threshold\n",
    "    prob_correct = sum(binom.pmf(k, n_models, p) for k in range(majority, n_models + 1))\n",
    "    return prob_correct\n",
    "\n",
    "# Ensemble accuracy for 15 models with 63% accuracy\n",
    "n_models_a = 15\n",
    "model_acc_a = 0.63\n",
    "ensemble_acc_a = ensemble_accuracy(n_models_a, model_acc_a)\n",
    "print(f\"Ensemble accuracy: {ensemble_acc_a:.4f}\")"
   ]
  },
  {
   "cell_type": "markdown",
   "id": "074065bd-d3ed-48d2-ac77-55866c01012b",
   "metadata": {},
   "source": [
    "# (b)"
   ]
  },
  {
   "cell_type": "code",
   "execution_count": 5,
   "id": "ca62d180-8ebc-4541-b719-6a47f891b2a0",
   "metadata": {},
   "outputs": [
    {
     "name": "stdout",
     "output_type": "stream",
     "text": [
      "Minimum individual model accuracy: 71%\n"
     ]
    }
   ],
   "source": [
    "n_models_b = 15\n",
    "desired_ensemble_acc = 0.95\n",
    "\n",
    "for acc in range(1, 101):  # Checking whole number percentages\n",
    "    model_acc_b = acc / 100\n",
    "    if ensemble_accuracy(n_models_b, model_acc_b) >= desired_ensemble_acc:\n",
    "        print(f\"Minimum individual model accuracy: {acc}%\")\n",
    "        break"
   ]
  },
  {
   "cell_type": "markdown",
   "id": "84a77214-e89d-4126-a365-a5df4f60ef0c",
   "metadata": {},
   "source": [
    "## (c)"
   ]
  },
  {
   "cell_type": "code",
   "execution_count": 7,
   "id": "f6f25ca7-b248-42a9-b4d7-1a1a158893a2",
   "metadata": {},
   "outputs": [
    {
     "name": "stdout",
     "output_type": "stream",
     "text": [
      "Minimum number of models needed: 39\n"
     ]
    }
   ],
   "source": [
    "model_acc_c = 0.63\n",
    "n_models_c = 15  # Start with 15 and increase\n",
    "\n",
    "while ensemble_accuracy(n_models_c, model_acc_c) < desired_ensemble_acc:\n",
    "    n_models_c += 2  # Increase by 2 to keep it odd\n",
    "\n",
    "print(f\"Minimum number of models needed: {n_models_c}\")"
   ]
  },
  {
   "cell_type": "markdown",
   "id": "c405bb14-9aad-4e1a-8db9-2075aa90da57",
   "metadata": {},
   "source": [
    "# 2. Working with Random Data"
   ]
  },
  {
   "cell_type": "markdown",
   "id": "a63a536a-147c-4fce-8d0f-dafca8c12bec",
   "metadata": {},
   "source": [
    "## (a)"
   ]
  },
  {
   "cell_type": "code",
   "execution_count": 10,
   "id": "9bf6dd6a-190a-41bb-8e71-e9d38f641e31",
   "metadata": {},
   "outputs": [],
   "source": [
    "pmf = {1: 0.1, 2: 0.2, 3: 0.3, 4: 0.2, 5: 0.2}  # Ensures probabilities sum to 1\n",
    "\n",
    "def generate_random_x(pmf, size=50):\n",
    "    values, probabilities = zip(*pmf.items())\n",
    "    samples = np.random.choice(values, size=size, p=probabilities)\n",
    "    return np.mean(samples)\n",
    "\n",
    "def run_simulations(pmf, num_simulations=1000, sample_size=50):\n",
    "    means = [generate_random_x(pmf, sample_size) for _ in range(num_simulations)]\n",
    "    return means"
   ]
  },
  {
   "cell_type": "markdown",
   "id": "6ac7ac85-d954-412d-b5ef-12c441419944",
   "metadata": {},
   "source": [
    "## (b)"
   ]
  },
  {
   "cell_type": "code",
   "execution_count": 12,
   "id": "5ff97eb0-011d-48d9-bde9-e72f8bd67862",
   "metadata": {},
   "outputs": [
    {
     "name": "stdout",
     "output_type": "stream",
     "text": [
      "Sample mean of 50 values: 3.3200\n"
     ]
    }
   ],
   "source": [
    "# Generate 50 random X-values and compute their mean\n",
    "sample_mean = generate_random_x(pmf)\n",
    "print(f\"Sample mean of 50 values: {sample_mean:.4f}\")"
   ]
  },
  {
   "cell_type": "markdown",
   "id": "50af6abb-cc6f-4f59-a330-014df4b148e0",
   "metadata": {},
   "source": [
    "## (c)"
   ]
  },
  {
   "cell_type": "code",
   "execution_count": 14,
   "id": "6e848cff-b438-4bfb-8af9-df91a98615e0",
   "metadata": {},
   "outputs": [],
   "source": [
    "# Run the function 1000 times and store means\n",
    "means_list = run_simulations(pmf)"
   ]
  },
  {
   "cell_type": "markdown",
   "id": "108add17-bedf-46d9-826f-e08fc01d8281",
   "metadata": {},
   "source": [
    "## (d)"
   ]
  },
  {
   "cell_type": "code",
   "execution_count": 16,
   "id": "01de68aa-a57f-4af2-80f2-63e26c72db92",
   "metadata": {},
   "outputs": [
    {
     "data": {
      "image/png": "[encoded data removed]",
      "text/plain": [
       "<Figure size 640x480 with 1 Axes>"
      ]
     },
     "metadata": {},
     "output_type": "display_data"
    }
   ],
   "source": [
    "# (d) Create histogram of means\n",
    "plt.hist(means_list, bins=30, edgecolor='black', alpha=0.7)\n",
    "plt.xlabel('Sample Mean')\n",
    "plt.ylabel('Frequency')\n",
    "plt.title('Histogram of Sample Means')\n",
    "plt.show()"
   ]
  },
  {
   "cell_type": "markdown",
   "id": "410b777e-3c52-4250-adec-fa8b1f4d9654",
   "metadata": {},
   "source": [
    "The histogram appears to have a standard bell-curve shape. This is expected due to the Central Limit Theorem (CLT), which states that the distribution of the sample means will be approximately normal, regardless of the original distribution, as long as the sample size is sufficiently large."
   ]
  },
  {
   "cell_type": "markdown",
   "id": "12750967-1f44-4037-bb49-e56b1dae313f",
   "metadata": {},
   "source": [
    "## (e)"
   ]
  },
  {
   "cell_type": "code",
   "execution_count": 19,
   "id": "2926bbbe-ed28-4c8b-ae59-45eb3604873a",
   "metadata": {},
   "outputs": [
    {
     "name": "stdout",
     "output_type": "stream",
     "text": [
      "Mean of means: 3.1945\n",
      "Standard deviation of means: 0.1720\n"
     ]
    }
   ],
   "source": [
    "# Compute mean and standard deviation of means\n",
    "mean_of_means = np.mean(means_list)\n",
    "std_of_means = np.std(means_list, ddof=1)\n",
    "print(f\"Mean of means: {mean_of_means:.4f}\")\n",
    "print(f\"Standard deviation of means: {std_of_means:.4f}\")"
   ]
  },
  {
   "cell_type": "code",
   "execution_count": 20,
   "id": "480507d2-30e7-41e0-99d1-b849f7afa66d",
   "metadata": {},
   "outputs": [
    {
     "name": "stdout",
     "output_type": "stream",
     "text": [
      "Theoretical mean: 3.2000\n",
      "Theoretical standard deviation: 0.1766\n"
     ]
    }
   ],
   "source": [
    "# Theoretical values\n",
    "true_mean = sum(x * p for x, p in pmf.items())\n",
    "true_std = math.sqrt(sum((x - true_mean) ** 2 * p for x, p in pmf.items()) / 50)\n",
    "print(f\"Theoretical mean: {true_mean:.4f}\")\n",
    "print(f\"Theoretical standard deviation: {true_std:.4f}\")"
   ]
  }
 ],
 "metadata": {
  "kernelspec": {
   "display_name": "Python 3 (ipykernel)",
   "language": "python",
   "name": "python3"
  },
  "language_info": {
   "codemirror_mode": {
    "name": "ipython",
    "version": 3
   },
   "file_extension": ".py",
   "mimetype": "text/x-python",
   "name": "python",
   "nbconvert_exporter": "python",
   "pygments_lexer": "ipython3",
   "version": "3.12.4"
  }
 },
 "nbformat": 4,
 "nbformat_minor": 5
}
