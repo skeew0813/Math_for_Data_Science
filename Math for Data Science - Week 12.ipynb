{
 "cells": [
  {
   "cell_type": "markdown",
   "id": "ea0f7b09-de37-4d7e-9032-7fcc3dfbf6d9",
   "metadata": {},
   "source": [
    "# 1. Calculating Probabilities using Bayes' Theorem"
   ]
  },
  {
   "cell_type": "markdown",
   "id": "607bc19c-faa0-46f0-ade0-e763f95ad9ef",
   "metadata": {},
   "source": [
    "## (a)"
   ]
  },
  {
   "cell_type": "code",
   "execution_count": 3,
   "id": "3036ce92-9008-4f1b-878f-6f336371984a",
   "metadata": {},
   "outputs": [
    {
     "name": "stdout",
     "output_type": "stream",
     "text": [
      "P(A|Def) = 0.5172\n"
     ]
    }
   ],
   "source": [
    "# Given probabilities\n",
    "P_A = 0.5\n",
    "P_Def_A = 0.03\n",
    "P_B = 0.3\n",
    "P_Def_B = 0.02\n",
    "P_C = 0.2\n",
    "P_Def_C = 0.04\n",
    "\n",
    "# Calculate P(Def) using the law of total probability\n",
    "P_Def = (P_Def_A * P_A) + (P_Def_B * P_B) + (P_Def_C * P_C)\n",
    "\n",
    "# Calculate P(A|Def) using Bayes' Theorem\n",
    "P_A_given_Def = (P_Def_A * P_A) / P_Def\n",
    "\n",
    "# Print the results\n",
    "print(f\"P(A|Def) = {P_A_given_Def:.4f}\")"
   ]
  },
  {
   "cell_type": "markdown",
   "id": "4e7697e9-cf49-4929-aac1-c950fe35a24f",
   "metadata": {},
   "source": [
    "## (b)"
   ]
  },
  {
   "cell_type": "code",
   "execution_count": 6,
   "id": "3c3791ec-e5e8-45a0-9797-58b6e801f4a2",
   "metadata": {},
   "outputs": [
    {
     "name": "stdout",
     "output_type": "stream",
     "text": [
      "P(C|Not Def) = 0.1977\n"
     ]
    }
   ],
   "source": [
    "# Calculate P(C|Not Def) using Bayes' Theorem\n",
    "P_Not_Def = 1 - P_Def  # Total probability of Not Defective\n",
    "P_Not_Def_C = 1 - P_Def_C  # Probability of Not Defective given Process C\n",
    "P_C_given_Not_Def = (P_Not_Def_C * P_C) / P_Not_Def\n",
    "\n",
    "# Print the results\n",
    "print(f\"P(C|Not Def) = {P_C_given_Not_Def:.4f}\")"
   ]
  },
  {
   "cell_type": "markdown",
   "id": "40c4ce78-04a8-45a2-89fe-7128b4a2e0a0",
   "metadata": {},
   "source": [
    "# 2. Entropy Function for a Probability Distribution"
   ]
  },
  {
   "cell_type": "code",
   "execution_count": 7,
   "id": "22c21f1d-cda3-4310-9b37-8397bf02c5d7",
   "metadata": {},
   "outputs": [],
   "source": [
    "import numpy as np\n",
    "\n",
    "# Function to calculate entropy\n",
    "def calculate_entropy(probabilities):\n",
    "    return -np.sum(probabilities * np.log2(probabilities))"
   ]
  },
  {
   "cell_type": "markdown",
   "id": "e505b6ea-b6cb-4dd8-beb5-39c92af5e047",
   "metadata": {},
   "source": [
    "# 3. Calculating Entropies of Probability Distributions"
   ]
  },
  {
   "cell_type": "markdown",
   "id": "55a25cd1-0c63-4ddf-933e-3c0a002c655a",
   "metadata": {},
   "source": [
    "## (a)"
   ]
  },
  {
   "cell_type": "code",
   "execution_count": 5,
   "id": "734b4328-5143-4db2-848d-c7eec5ae3dd5",
   "metadata": {},
   "outputs": [
    {
     "name": "stdout",
     "output_type": "stream",
     "text": [
      "Entropy of X: 2.3219\n",
      "Entropy of Y: 2.0464\n"
     ]
    }
   ],
   "source": [
    "# Probabilities for X\n",
    "P_X = np.array([0.2, 0.2, 0.2, 0.2, 0.2])\n",
    "entropy_X = calculate_entropy(P_X)\n",
    "\n",
    "# Probabilities for Y\n",
    "P_Y = np.array([0.1, 0.4, 0.1, 0.3, 0.1])\n",
    "entropy_Y = calculate_entropy(P_Y)\n",
    "\n",
    "print(f\"Entropy of X: {entropy_X:.4f}\")\n",
    "print(f\"Entropy of Y: {entropy_Y:.4f}\")"
   ]
  },
  {
   "cell_type": "markdown",
   "id": "db3297e8-9a62-4212-859c-d0b4e69d437b",
   "metadata": {},
   "source": [
    "## (b)"
   ]
  },
  {
   "cell_type": "markdown",
   "id": "4ab8fa60-2ef8-4add-95e4-64f9752167c9",
   "metadata": {},
   "source": [
    "So, after running the calculations, I found that X has a higher entropy than Y. This makes sense because all of the probabilities for X are the same (0.2 for each outcome), which means there's a lot of uncertainty about what could happen. Any of the five outcomes are just as likely, so that high level of unpredictability is reflected in the higher entropy."
   ]
  }
 ],
 "metadata": {
  "kernelspec": {
   "display_name": "Python 3 (ipykernel)",
   "language": "python",
   "name": "python3"
  },
  "language_info": {
   "codemirror_mode": {
    "name": "ipython",
    "version": 3
   },
   "file_extension": ".py",
   "mimetype": "text/x-python",
   "name": "python",
   "nbconvert_exporter": "python",
   "pygments_lexer": "ipython3",
   "version": "3.12.4"
  }
 },
 "nbformat": 4,
 "nbformat_minor": 5
}
