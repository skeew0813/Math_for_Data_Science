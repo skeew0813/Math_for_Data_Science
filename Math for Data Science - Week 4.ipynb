{
 "cells": [
  {
   "cell_type": "markdown",
   "id": "c30c6cca-ad5b-45cf-9e3e-0e9066395bf3",
   "metadata": {},
   "source": [
    "# Calculating Limits Numerically"
   ]
  },
  {
   "cell_type": "markdown",
   "id": "8c4cc331-0d9c-4ec7-984b-cc9600f06eca",
   "metadata": {},
   "source": [
    "## (a)"
   ]
  },
  {
   "cell_type": "code",
   "execution_count": 15,
   "id": "cb616e2b-ae47-46ff-8fbc-b93735cb1e02",
   "metadata": {},
   "outputs": [
    {
     "name": "stdout",
     "output_type": "stream",
     "text": [
      "[38.178, 42.50179800000001, 42.95001799800001, 42.99500017999799, 43.050018001999995, 43.50180199999999, 48.18200000000001]\n"
     ]
    }
   ],
   "source": [
    "def f(x):\n",
    "    return 2*x**3 - 4*x + 1\n",
    "\n",
    "# Evaluate at values closer and closer to 3\n",
    "values = [f(2.9), f(2.99), f(2.999), f(2.9999), f(3.001), f(3.01), f(3.1)]\n",
    "\n",
    "print(values)\n",
    "\n",
    "# lim x -> 3 appears to be 43"
   ]
  },
  {
   "cell_type": "markdown",
   "id": "b6f1752d-ad52-439e-b739-eecb92dbba96",
   "metadata": {},
   "source": [
    "## (b)"
   ]
  },
  {
   "cell_type": "code",
   "execution_count": 22,
   "id": "73f0b0d6-d27d-4a5e-8b5c-3a0a1e3b0eb8",
   "metadata": {},
   "outputs": [
    {
     "name": "stdout",
     "output_type": "stream",
     "text": [
      "[1.0517091807564771, 1.005016708416795, 1.0005001667083846, 1.000050001667141, 0.9999500016666385]\n"
     ]
    }
   ],
   "source": [
    "import math\n",
    "\n",
    "def g(x):\n",
    "    return (math.exp(x) - 1) / x\n",
    "\n",
    "# Evaluate as x gets close to 0\n",
    "values_g = [g(0.1), g(0.01), g(0.001), g(0.0001), g(-0.0001)]\n",
    "\n",
    "print(values_g)\n",
    "\n",
    "# lim x -> 0 appears to be 1"
   ]
  },
  {
   "cell_type": "markdown",
   "id": "20b36082-12ec-47fb-acd5-5d36f01422a9",
   "metadata": {},
   "source": [
    "## (c)"
   ]
  },
  {
   "cell_type": "markdown",
   "id": "f613db18-d3c3-4402-b51d-06616f074975",
   "metadata": {},
   "source": [
    "In part (a), we can plug x = 3 directly into the function f(x) because its polynomial and continuous everwhere. In part (b), the limit of g(x) as x approaches 0 cannot be calculated directly because the function involves division by x, which leads to a discontinuity at x = 0. For a function to be continious at a point, it must be defined at that point, and the limit from both sides must exist and be equal to the functions value at that point."
   ]
  },
  {
   "cell_type": "markdown",
   "id": "e356ea0c-1325-4644-8c46-5c8811211ce6",
   "metadata": {},
   "source": [
    "# Average Rate of Change"
   ]
  },
  {
   "cell_type": "code",
   "execution_count": 1,
   "id": "f6ebb61f-c0d7-481b-b886-a4bc66f3d876",
   "metadata": {},
   "outputs": [
    {
     "name": "stdout",
     "output_type": "stream",
     "text": [
      "18.0\n"
     ]
    }
   ],
   "source": [
    "def average_rate_of_change(f, a, b):\n",
    "    return (f(b) - f(a)) / (b - a)\n",
    "\n",
    "# Example using f(x) = 3x^2\n",
    "def f_example(x):\n",
    "    return 3*x**2\n",
    "\n",
    "a = 2\n",
    "b = 4\n",
    "\n",
    "print(average_rate_of_change(f_example, a, b))"
   ]
  },
  {
   "cell_type": "markdown",
   "id": "35d7884f-72c2-4ca1-9bc8-49530b833e1d",
   "metadata": {},
   "source": [
    "# Average Rate of Change to Instantaneous Rate of Change"
   ]
  },
  {
   "cell_type": "markdown",
   "id": "9de7a8fb-d563-4ba5-a20a-47fc2b4bae1a",
   "metadata": {},
   "source": [
    "## (a)"
   ]
  },
  {
   "cell_type": "code",
   "execution_count": 5,
   "id": "480461d0-35da-4f6f-a807-542185fff75d",
   "metadata": {},
   "outputs": [
    {
     "name": "stdout",
     "output_type": "stream",
     "text": [
      "53.89999999999999\n"
     ]
    }
   ],
   "source": [
    "def f_baseball(t):\n",
    "    return 4.9 * t**2\n",
    "\n",
    "# Average speed between 5 and 6 seconds\n",
    "print(average_rate_of_change(f_baseball, 5, 6))"
   ]
  },
  {
   "cell_type": "markdown",
   "id": "832d4aa0-f3a8-4722-9d9e-4421f5688eef",
   "metadata": {},
   "source": [
    "## (b)"
   ]
  },
  {
   "cell_type": "code",
   "execution_count": 8,
   "id": "8b7be2ac-481e-4d94-903f-5597fe03d279",
   "metadata": {},
   "outputs": [
    {
     "name": "stdout",
     "output_type": "stream",
     "text": [
      "51.45000000000002\n"
     ]
    }
   ],
   "source": [
    "print(average_rate_of_change(f_baseball, 5, 5.5))"
   ]
  },
  {
   "cell_type": "markdown",
   "id": "6b6890ee-8794-4ae4-bf9d-ac68f1d6c350",
   "metadata": {},
   "source": [
    "## (c)"
   ]
  },
  {
   "cell_type": "code",
   "execution_count": 11,
   "id": "266882c3-ca9f-4eac-a819-f09f4227bb50",
   "metadata": {},
   "outputs": [
    {
     "name": "stdout",
     "output_type": "stream",
     "text": [
      "49.490000000000016\n"
     ]
    }
   ],
   "source": [
    "print(average_rate_of_change(f_baseball, 5, 5.1))"
   ]
  },
  {
   "cell_type": "markdown",
   "id": "b08c645f-574a-42cd-9dc3-dd0f25875bb6",
   "metadata": {},
   "source": [
    "## (d)"
   ]
  },
  {
   "cell_type": "code",
   "execution_count": 22,
   "id": "1bc598ad-affe-4e9f-b513-1646c4224457",
   "metadata": {},
   "outputs": [
    {
     "name": "stdout",
     "output_type": "stream",
     "text": [
      "49.04899999999903\n",
      "49.004899999997754\n",
      "49.00048999996949\n",
      "The instantaneou9s speed of the baseball at t = 5 seconds is 49 m/s.\n"
     ]
    }
   ],
   "source": [
    "print(average_rate_of_change(f_baseball, 5, 5.01))\n",
    "print(average_rate_of_change(f_baseball, 5, 5.001))\n",
    "print(average_rate_of_change(f_baseball, 5, 5.0001))\n",
    "print(\"The instantaneou9s speed of the baseball at t = 5 seconds is 49 m/s.\")"
   ]
  },
  {
   "cell_type": "markdown",
   "id": "305d44b0-d7ea-4512-99c4-5980d2473d98",
   "metadata": {},
   "source": [
    "## (e)"
   ]
  },
  {
   "cell_type": "markdown",
   "id": "fe558dfe-bf63-4429-afc1-bcbc36e08319",
   "metadata": {},
   "source": [
    "f'(t) = 9.8t"
   ]
  },
  {
   "cell_type": "markdown",
   "id": "d8ead04e-3b0b-46e6-8aca-1c28a4d3c768",
   "metadata": {},
   "source": [
    "## (f)"
   ]
  },
  {
   "cell_type": "code",
   "execution_count": 27,
   "id": "a9fb09bf-74b8-4e0a-99d8-16bedea8e01a",
   "metadata": {},
   "outputs": [
    {
     "name": "stdout",
     "output_type": "stream",
     "text": [
      "49.0\n"
     ]
    }
   ],
   "source": [
    "def derivative_f_baseball(t):\n",
    "    return 9.8 * t\n",
    "\n",
    "# Evaluate at t = 5\n",
    "instantaneous_speed = derivative_f_baseball(5)\n",
    "print(instantaneous_speed)"
   ]
  },
  {
   "cell_type": "markdown",
   "id": "78e76021-886d-4a97-914c-20a4881b283c",
   "metadata": {},
   "source": [
    "The instantaneous speed at t = 5 from the derivative function matches the average speed calculation from part (d). So, it appears as the interval between the average rate of change gets smaller and smaller, it gets closer to the instantaneous speed. "
   ]
  },
  {
   "cell_type": "markdown",
   "id": "6e5e7e16-759e-4b8b-bfa3-7048d85d8b72",
   "metadata": {},
   "source": [
    "# Partial Derivatives"
   ]
  },
  {
   "cell_type": "markdown",
   "id": "fd41cd57-b926-45bf-af89-7afd5d357794",
   "metadata": {},
   "source": [
    "## (a)"
   ]
  },
  {
   "cell_type": "code",
   "execution_count": 32,
   "id": "aeb225d4-855e-4041-84cc-a963a619df8c",
   "metadata": {},
   "outputs": [
    {
     "name": "stdout",
     "output_type": "stream",
     "text": [
      "26200\n"
     ]
    }
   ],
   "source": [
    "def selling_price(C, Y):\n",
    "    return 16000 + 2400*C - 1800*Y\n",
    "\n",
    "print(selling_price(8, 5))"
   ]
  },
  {
   "cell_type": "markdown",
   "id": "3043c8bb-1b8f-4879-bae7-c40dbebb6320",
   "metadata": {},
   "source": [
    "## (b)"
   ]
  },
  {
   "cell_type": "markdown",
   "id": "7b87f286-ae8b-48bf-ac38-77714c3113ec",
   "metadata": {},
   "source": [
    "∂P/∂C = 2400. This means that for every 1-point increase in the condition rating, the selling price of the car increases by $2,400.|"
   ]
  },
  {
   "cell_type": "markdown",
   "id": "85028e10-9d16-42e7-8bd5-8d5667dc6817",
   "metadata": {},
   "source": [
    "## (c)"
   ]
  },
  {
   "cell_type": "markdown",
   "id": "9c5f78b9-741c-4260-9143-060423ebd50f",
   "metadata": {},
   "source": [
    "∂P/∂Y = -1800. This means that for every 1-year increase in the car's age, the selling price decreases by $1,800."
   ]
  },
  {
   "cell_type": "code",
   "execution_count": null,
   "id": "d99a4228-4e8f-491f-8dff-f30830ae978c",
   "metadata": {},
   "outputs": [],
   "source": []
  }
 ],
 "metadata": {
  "kernelspec": {
   "display_name": "Python 3 (ipykernel)",
   "language": "python",
   "name": "python3"
  },
  "language_info": {
   "codemirror_mode": {
    "name": "ipython",
    "version": 3
   },
   "file_extension": ".py",
   "mimetype": "text/x-python",
   "name": "python",
   "nbconvert_exporter": "python",
   "pygments_lexer": "ipython3",
   "version": "3.12.4"
  }
 },
 "nbformat": 4,
 "nbformat_minor": 5
}
