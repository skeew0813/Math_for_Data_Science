{
 "cells": [
  {
   "cell_type": "code",
   "execution_count": 2,
   "id": "091fbec4-178f-47fe-880c-d6fbc6dd252a",
   "metadata": {},
   "outputs": [
    {
     "name": "stdout",
     "output_type": "stream",
     "text": [
      "      sqft  sale_price  sale_price_pred\n",
      "0     2416      208500      215635.4687\n",
      "1     2240      181500      202432.1633\n",
      "2     2272      223500      204832.7643\n",
      "3     1933      140000      179401.3976\n",
      "4     2853      250000      248418.6758\n",
      "...    ...         ...              ...\n",
      "1455  1647      175000      157946.0263\n",
      "1456  2863      210000      249168.8636\n",
      "1457  2615      266500      230564.2060\n",
      "1458  1127      142125      118936.2604\n",
      "1459  2086      147500      190879.2710\n",
      "\n",
      "[1460 rows x 3 columns]\n",
      "     actual predicted\n",
      "0         p         p\n",
      "1         e         e\n",
      "2         e         e\n",
      "3         p         p\n",
      "4         e         p\n",
      "...     ...       ...\n",
      "8119      e         p\n",
      "8120      e         p\n",
      "8121      e         p\n",
      "8122      p         p\n",
      "8123      e         p\n",
      "\n",
      "[8124 rows x 2 columns]\n"
     ]
    }
   ],
   "source": [
    "import pandas as pd\n",
    "import numpy as np\n",
    "\n",
    "df_housing = pd.read_csv(r\"C:\\Users\\Weekseey\\Documents\\Bellevue Work\\Math for Data Science\\week1data\\housing_data.csv\")\n",
    "df_mushroom = pd.read_csv(r\"C:\\Users\\Weekseey\\Documents\\Bellevue Work\\Math for Data Science\\week1data\\mushroom_data.csv\")\n",
    "\n",
    "print(df_housing)\n",
    "print(df_mushroom)"
   ]
  },
  {
   "cell_type": "markdown",
   "id": "72c25ba3-8543-4fde-81f2-253bb9682617",
   "metadata": {},
   "source": [
    "# Question 1"
   ]
  },
  {
   "cell_type": "markdown",
   "id": "3485bee7-66d5-4aa1-9612-f82a822c6b65",
   "metadata": {},
   "source": [
    "### (a)"
   ]
  },
  {
   "cell_type": "code",
   "execution_count": 65,
   "id": "16a0db31-4603-402e-ad8c-e42d4d2af256",
   "metadata": {
    "scrolled": true
   },
   "outputs": [],
   "source": [
    "import pandas as pd\n",
    "import numpy as np\n",
    "\n",
    "def calculate_rmse(actual, predicted):\n",
    "\n",
    "    # Make sure both arrays are the same length\n",
    "    if len(actual) != len(predicted):\n",
    "        raise ValueError(\"Both arrays must have the same length.\")\n",
    "    \n",
    "    # Compute the differences and square them\n",
    "    squared_errors = (np.array(predicted) - np.array(actual)) ** 2\n",
    "    \n",
    "    # Calculate the mean of the squared errors\n",
    "    mse = np.mean(squared_errors)\n",
    "    \n",
    "    # Return the square root of the mean\n",
    "    return np.sqrt(mse)\n"
   ]
  },
  {
   "cell_type": "markdown",
   "id": "3a3d445a-ac86-4744-bcf2-b1e7dbb0c98b",
   "metadata": {},
   "source": [
    "## (b)"
   ]
  },
  {
   "cell_type": "code",
   "execution_count": 69,
   "id": "57ad9e82-c042-4167-88bd-5d2ee7bf70ea",
   "metadata": {},
   "outputs": [
    {
     "name": "stdout",
     "output_type": "stream",
     "text": [
      "RMSE: 55064.0688338987\n"
     ]
    }
   ],
   "source": [
    "import pandas as pd\n",
    "import numpy as np\n",
    "\n",
    "def calculate_rmse(actual, predicted):\n",
    "\n",
    "    # Make sure both arrays are the same length\n",
    "    if len(actual) != len(predicted):\n",
    "        raise ValueError(\"Both arrays must have the same length.\")\n",
    "    \n",
    "    # Compute the differences and square them\n",
    "    squared_errors = (np.array(predicted) - np.array(actual)) ** 2\n",
    "    \n",
    "    # Calculate the mean of the squared errors\n",
    "    mse = np.mean(squared_errors)\n",
    "    \n",
    "    # Return the square root of the mean\n",
    "    return np.sqrt(mse)\n",
    "\n",
    "# Make DataFrame with the housing data\n",
    "df_housing = pd.read_csv(r\"C:\\Users\\Weekseey\\Documents\\Bellevue Work\\Math for Data Science\\week1data\\housing_data.csv\")\n",
    "\n",
    "# Assign the actual and predicted arrays\n",
    "actual_values = df_housing['sale_price']\n",
    "predicted_values = df_housing['sale_price_pred']\n",
    "\n",
    "# Call function\n",
    "rmse = calculate_rmse(actual_values, predicted_values)\n",
    "print(f\"RMSE: {rmse}\")"
   ]
  },
  {
   "cell_type": "markdown",
   "id": "c6b0fefc-42ae-41f6-9629-3b385e6768fb",
   "metadata": {},
   "source": [
    "The **RMSE** for the actual vs. predicted housing prices based on sq.ft. is apporoximately **$55,064**."
   ]
  },
  {
   "cell_type": "markdown",
   "id": "3f941fa1-1a86-4c70-be50-0150dc5bc428",
   "metadata": {},
   "source": [
    "# Question 2"
   ]
  },
  {
   "cell_type": "markdown",
   "id": "8d99beed-7a18-4fb3-ba27-889eb77b793a",
   "metadata": {},
   "source": [
    "## (a)"
   ]
  },
  {
   "cell_type": "code",
   "execution_count": 23,
   "id": "3899e7ec-dc14-4c30-b6db-3a4e90c641df",
   "metadata": {},
   "outputs": [],
   "source": [
    "import pandas as pd\n",
    "import numpy as np\n",
    "\n",
    "def calculate_mae(actual, predicted):\n",
    "\n",
    "    # Make sure both arrays are the same length\n",
    "    if len(actual) != len(predicted):\n",
    "        raise ValueError(\"Both arrays must have the same length.\")\n",
    "\n",
    "    # Compute absolute value of differences\n",
    "    absolute_error = np.abs(np.array(predicted)- np.array(actual))\n",
    "\n",
    "    # Compute and return the mean of absolute differences\n",
    "    return np.mean(absolute_error)\n"
   ]
  },
  {
   "cell_type": "markdown",
   "id": "483b2b1e-8683-427d-9e47-e3667c5d2b58",
   "metadata": {},
   "source": [
    "## (b)"
   ]
  },
  {
   "cell_type": "code",
   "execution_count": 26,
   "id": "ead78524-bf4b-478d-b7a9-0f7ae66bdf79",
   "metadata": {},
   "outputs": [
    {
     "name": "stdout",
     "output_type": "stream",
     "text": [
      "MAE: 55064.0688338987\n"
     ]
    }
   ],
   "source": [
    "import pandas as pd\n",
    "import numpy as np\n",
    "\n",
    "def calculate_mae(actual, predicted):\n",
    "\n",
    "    # Make sure both arrays are the same length\n",
    "    if len(actual) != len(predicted):\n",
    "        raise ValueError(\"Both arrays must have the same length.\")\n",
    "\n",
    "    # Compute absolute value of differences\n",
    "    absolute_error = np.abs(np.array(predicted)- np.array(actual))\n",
    "\n",
    "    # Compute and return the mean of absolute differences\n",
    "    return np.mean(absolute_error)\n",
    "\n",
    "# Make DataFrame using housing data\n",
    "df_housing = pd.read_csv(r\"C:\\Users\\Weekseey\\Documents\\Bellevue Work\\Math for Data Science\\week1data\\housing_data.csv\")\n",
    "\n",
    "# Assign actual and predicted arrays\n",
    "actual_values = df_housing['sale_price']\n",
    "predicted_values = df_housing['sale_price_pred']\n",
    "\n",
    "# Call function\n",
    "mae = calculate_mae(actual_values, predicted_values)\n",
    "print(f\"MAE: {rmse}\")"
   ]
  },
  {
   "cell_type": "markdown",
   "id": "212e1a62-2677-4c63-9c33-eeaa74809dd3",
   "metadata": {},
   "source": [
    "The **MAE** for the actual vs. predicted housing prices based on sqft. is approximately **$55,064**."
   ]
  },
  {
   "cell_type": "markdown",
   "id": "4693068e-e073-46a8-8d47-ab371c87df3a",
   "metadata": {},
   "source": [
    "# Question 3"
   ]
  },
  {
   "cell_type": "markdown",
   "id": "01516bbe-85f2-465c-b122-eceec7428aec",
   "metadata": {},
   "source": [
    "## (a)"
   ]
  },
  {
   "cell_type": "code",
   "execution_count": 30,
   "id": "f0af4963-594e-492d-acc6-cf78a8a6c3c0",
   "metadata": {},
   "outputs": [],
   "source": [
    "import pandas as pd\n",
    "import numpy as np\n",
    "\n",
    "def calculate_accuracy(actual, predicted):\n",
    "\n",
    "    # Make sure both arrays are the same length\n",
    "    if len(actual) != len(predicted):\n",
    "        raise ValueError(\"Both arrays must have the same length.\")\n",
    "\n",
    "    # Assign actual and predicted arrays for easier computing\n",
    "    actual = np.array(actual)\n",
    "    predicted = np.array(predicted)\n",
    "\n",
    "    # Sum all correct predictions\n",
    "    correct_predictions = np.sum(actual == predicted)\n",
    "\n",
    "    # Calculate accuracy from correct predictions and total\n",
    "    accuracy = (correct_predictions / len(actual)) * 100\n",
    "    return accuracy"
   ]
  },
  {
   "cell_type": "markdown",
   "id": "9db30407-cebd-4f24-96a5-12850cc6f9b2",
   "metadata": {},
   "source": [
    "## (b)"
   ]
  },
  {
   "cell_type": "code",
   "execution_count": 33,
   "id": "21674c48-71a1-4d76-bd49-dcb2b8849f1b",
   "metadata": {},
   "outputs": [
    {
     "name": "stdout",
     "output_type": "stream",
     "text": [
      "Accuracy: 84.71%\n"
     ]
    }
   ],
   "source": [
    "import pandas as pd\n",
    "import numpy as np\n",
    "\n",
    "def calculate_accuracy(actual, predicted):\n",
    "\n",
    "    # Make sure both arrays are the same length\n",
    "    if len(actual) != len(predicted):\n",
    "        raise ValueError(\"Both arrays must have the same length.\")\n",
    "\n",
    "    # Assign arrays for easier computing\n",
    "    actual = np.array(actual)\n",
    "    predicted = np.array(predicted)\n",
    "\n",
    "    # Sum all correct predictions\n",
    "    correct_predictions = np.sum(actual == predicted)\n",
    "\n",
    "    # Calculate accuracy from correct predictions and total\n",
    "    accuracy = (correct_predictions / len(actual)) * 100\n",
    "    return accuracy\n",
    "\n",
    "# Make DataFrame from mushroom data\n",
    "df_mushroom = pd.read_csv(r\"C:\\Users\\Weekseey\\Documents\\Bellevue Work\\Math for Data Science\\week1data\\mushroom_data.csv\")\n",
    "\n",
    "# Assign arrays\n",
    "actual_values = df_mushroom['actual']\n",
    "predicted_values = df_mushroom['predicted']\n",
    "\n",
    "# Call function\n",
    "accuracy = calculate_accuracy(actual_values, predicted_values)\n",
    "print(f\"Accuracy: {accuracy:.2f}%\")"
   ]
  },
  {
   "cell_type": "markdown",
   "id": "c0ab6e39-4cd7-4114-ae6e-e052fabad2d8",
   "metadata": {},
   "source": [
    "The **prediction accuracy** of correctly determining if a mushroom is poisonous or edible is **84.71%**."
   ]
  },
  {
   "cell_type": "markdown",
   "id": "f36489e4-1fa7-45b8-bde9-fe2fab3c030e",
   "metadata": {},
   "source": [
    "# Question 4"
   ]
  },
  {
   "cell_type": "markdown",
   "id": "cfa344b6-1bfc-4eea-956b-e6edd33d4ed4",
   "metadata": {},
   "source": [
    "# (a)"
   ]
  },
  {
   "cell_type": "code",
   "execution_count": 53,
   "id": "44ac9db7-8525-4f0a-8f15-e69e3da05258",
   "metadata": {},
   "outputs": [
    {
     "data": {
      "image/png": "[encoded data removed]",
      "text/plain": [
       "<Figure size 1000x600 with 1 Axes>"
      ]
     },
     "metadata": {},
     "output_type": "display_data"
    }
   ],
   "source": [
    "import numpy as np\n",
    "import matplotlib.pyplot as plt\n",
    "\n",
    "# Define the function f(p)\n",
    "def f(p):\n",
    "    return 0.005 * p**6 - 0.27 * p**5 + 5.998 * p**4 - 69.919 * p**3 + 449.17 * p**2 - 1499.7 * p + 2028\n",
    "\n",
    "# Create a range of values for p\n",
    "p_values = np.linspace(0, 20)  # Adjust the range if needed\n",
    "\n",
    "# Calculate the function values for each p\n",
    "f_values = f(p_values)\n",
    "\n",
    "# Plot the function\n",
    "plt.figure(figsize=(10, 6))\n",
    "plt.plot(p_values, f_values, label='f(p)', color='blue')\n",
    "plt.title(\"Plot of f(p)\")\n",
    "plt.xlabel(\"p (parameter)\")\n",
    "plt.ylabel(\"Error (f(p))\")\n",
    "plt.axhline(0, color='black', linestyle='--', linewidth=0.7)\n",
    "plt.grid(color='gray', linestyle='--', linewidth=0.5)\n",
    "plt.legend()\n",
    "plt.show()"
   ]
  },
  {
   "cell_type": "markdown",
   "id": "e5b63a14-e6db-48ff-b7c3-84a1dca5d68e",
   "metadata": {},
   "source": [
    "## (b)"
   ]
  },
  {
   "cell_type": "markdown",
   "id": "464bc0cd-d49b-46bd-aeb1-b067f2b211c0",
   "metadata": {},
   "source": [
    "The value of **p** that minimizes the error is approximately **5**."
   ]
  },
  {
   "cell_type": "markdown",
   "id": "efab2c5d-ea44-4a09-8ed6-2e448cc3f61f",
   "metadata": {},
   "source": [
    "## (c)"
   ]
  },
  {
   "cell_type": "markdown",
   "id": "bb94c9ce-8770-4e11-85c3-f66d70efa649",
   "metadata": {},
   "source": [
    "At the point p = 5, the estimated **minimum error** seems to be very close to **0**. "
   ]
  }
 ],
 "metadata": {
  "kernelspec": {
   "display_name": "Python 3 (ipykernel)",
   "language": "python",
   "name": "python3"
  },
  "language_info": {
   "codemirror_mode": {
    "name": "ipython",
    "version": 3
   },
   "file_extension": ".py",
   "mimetype": "text/x-python",
   "name": "python",
   "nbconvert_exporter": "python",
   "pygments_lexer": "ipython3",
   "version": "3.12.4"
  }
 },
 "nbformat": 4,
 "nbformat_minor": 5
}
